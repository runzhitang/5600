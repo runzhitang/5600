{
 "cells": [
  {
   "cell_type": "code",
   "execution_count": 3,
   "metadata": {},
   "outputs": [
    {
     "name": "stdout",
     "output_type": "stream",
     "text": [
      "+-----+-------+-------+------+-------------+-----------+------+-------------+-------+-------------+----+---------------+----------------+---+----+---------+-----------+-----------+------+------+--------+---------+------------+-----------------+---------+--------+---------+------------+----------------+-------------------+------------------------+----------------+------------------------+---------------------------+---------+----+\n",
      "|label|    uid|task_id|adv_id|creat_type_cd|adv_prim_id|dev_id|inter_type_cd|slot_id|spread_app_id|tags|app_first_class|app_second_class|age|city|city_rank|device_name|device_size|career|gender|net_type|residence|his_app_size|his_on_shelf_time|app_score|emui_dev|list_time|device_price|up_life_duration|up_membership_grade|membership_life_duration|consume_purchase|communication_onlinerate|communication_avgonline_30d|indu_name|pt_d|\n",
      "+-----+-------+-------+------+-------------+-----------+------+-------------+-------+-------------+----+---------------+----------------+---+----+---------+-----------+-----------+------+------+--------+---------+------------+-----------------+---------+--------+---------+------------+----------------+-------------------+------------------------+----------------+------------------------+---------------------------+---------+----+\n",
      "|    0|1808686|   3051|  5267|            7|        106|    57|            4|     16|           38|  34|              4|              15|  6| 240|        5|         91|        310|     3|     2|       3|       35|          10|                2|        2|      27|       14|           5|              -1|                 -1|                      -1|               2|    5^6^7^8^9^10^11^1...|                         11|       20|   2|\n",
      "|    0|1334610|   2605|  5922|            8|        142|    36|            5|     17|           80|  41|              4|              26|  4| 219|        4|        104|        141|     9|     2|       3|       18|           5|                3|        2|      20|       14|           5|              -1|                 -1|                      -1|               2|    5^6^7^8^9^10^11^1...|                         11|       42|   2|\n",
      "|    0|1526243|   2325|  4456|            6|        139|    60|            3|     17|           78|  23|              2|              23|  2| 257|        5|         45|        141|     3|     4|       3|       34|          -1|               -1|        1|      20|        8|           5|              16|                 -1|                      -1|               2|    2^3^4^5^6^7^8^9^1...|                         12|       38|   2|\n",
      "|    0|1223463|   2477|  5868|            7|        183|    29|            5|     12|           86|  37|              4|              21|  4| 207|        5|         87|        117|     4|     2|       2|       32|           4|                3|        2|      28|        5|           4|              18|                 -1|                      -1|               2|    5^6^7^8^9^10^11^1...|                         12|       17|   2|\n",
      "|    0|1594647|   3577|  5884|            7|        207|    17|            5|     12|           13|  37|              4|              21|  2| 298|        3|         76|        156|     4|     2|       2|       44|           4|                2|        2|      14|        6|           1|              20|                 -1|                      -1|               2|    1^2^3^4^5^6^7^8^9...|                         13|       17|   2|\n",
      "+-----+-------+-------+------+-------------+-----------+------+-------------+-------+-------------+----+---------------+----------------+---+----+---------+-----------+-----------+------+------+--------+---------+------------+-----------------+---------+--------+---------+------------+----------------+-------------------+------------------------+----------------+------------------------+---------------------------+---------+----+\n",
      "only showing top 5 rows\n",
      "\n"
     ]
    }
   ],
   "source": [
    "# Load csv\n",
    "# import pandas\n",
    "# titanic = pandas.read_csv('train_data-011.csv')\n",
    "# titanic.head(10)\n",
    "from pyspark.sql import SparkSession\n",
    "spark = SparkSession.builder.appName(\"Python Spark regression example\").config(\"config.option\", \"value\").getOrCreate()\n",
    "sc = spark.sparkContext\n",
    "df =spark.read.csv(path='train_data-011.csv', sep='|',encoding='UTF-8',comment=None, header=True,inferSchema=True)\n",
    "df.show(5)"
   ]
  },
  {
   "cell_type": "code",
   "execution_count": 4,
   "metadata": {},
   "outputs": [
    {
     "data": {
      "text/plain": [
       "1000000"
      ]
     },
     "execution_count": 4,
     "metadata": {},
     "output_type": "execute_result"
    }
   ],
   "source": [
    "# View the number of rows\n",
    "df.count()"
   ]
  },
  {
   "cell_type": "code",
   "execution_count": 5,
   "metadata": {},
   "outputs": [
    {
     "name": "stdout",
     "output_type": "stream",
     "text": [
      "root\n",
      " |-- label: integer (nullable = true)\n",
      " |-- uid: integer (nullable = true)\n",
      " |-- task_id: integer (nullable = true)\n",
      " |-- adv_id: integer (nullable = true)\n",
      " |-- creat_type_cd: integer (nullable = true)\n",
      " |-- adv_prim_id: integer (nullable = true)\n",
      " |-- dev_id: integer (nullable = true)\n",
      " |-- inter_type_cd: integer (nullable = true)\n",
      " |-- slot_id: integer (nullable = true)\n",
      " |-- spread_app_id: integer (nullable = true)\n",
      " |-- tags: integer (nullable = true)\n",
      " |-- app_first_class: integer (nullable = true)\n",
      " |-- app_second_class: integer (nullable = true)\n",
      " |-- age: integer (nullable = true)\n",
      " |-- city: integer (nullable = true)\n",
      " |-- city_rank: integer (nullable = true)\n",
      " |-- device_name: integer (nullable = true)\n",
      " |-- device_size: integer (nullable = true)\n",
      " |-- career: integer (nullable = true)\n",
      " |-- gender: integer (nullable = true)\n",
      " |-- net_type: integer (nullable = true)\n",
      " |-- residence: integer (nullable = true)\n",
      " |-- his_app_size: integer (nullable = true)\n",
      " |-- his_on_shelf_time: integer (nullable = true)\n",
      " |-- app_score: integer (nullable = true)\n",
      " |-- emui_dev: integer (nullable = true)\n",
      " |-- list_time: integer (nullable = true)\n",
      " |-- device_price: integer (nullable = true)\n",
      " |-- up_life_duration: integer (nullable = true)\n",
      " |-- up_membership_grade: integer (nullable = true)\n",
      " |-- membership_life_duration: integer (nullable = true)\n",
      " |-- consume_purchase: integer (nullable = true)\n",
      " |-- communication_onlinerate: string (nullable = true)\n",
      " |-- communication_avgonline_30d: integer (nullable = true)\n",
      " |-- indu_name: integer (nullable = true)\n",
      " |-- pt_d: integer (nullable = true)\n",
      "\n"
     ]
    }
   ],
   "source": [
    "# View information about each column\n",
    "df.printSchema()"
   ]
  },
  {
   "cell_type": "code",
   "execution_count": 6,
   "metadata": {},
   "outputs": [
    {
     "name": "stdout",
     "output_type": "stream",
     "text": [
      "+-----+-------+-------+------+-------------+-----------+------+-------------+-------+-------------+----+---------------+----------------+---+----+---------+-----------+-----------+------+------+--------+---------+------------+-----------------+---------+--------+---------+------------+----------------+-------------------+------------------------+----------------+------------------------+---------------------------+---------+----+\n",
      "|label|    uid|task_id|adv_id|creat_type_cd|adv_prim_id|dev_id|inter_type_cd|slot_id|spread_app_id|tags|app_first_class|app_second_class|age|city|city_rank|device_name|device_size|career|gender|net_type|residence|his_app_size|his_on_shelf_time|app_score|emui_dev|list_time|device_price|up_life_duration|up_membership_grade|membership_life_duration|consume_purchase|communication_onlinerate|communication_avgonline_30d|indu_name|pt_d|\n",
      "+-----+-------+-------+------+-------------+-----------+------+-------------+-------+-------------+----+---------------+----------------+---+----+---------+-----------+-----------+------+------+--------+---------+------------+-----------------+---------+--------+---------+------------+----------------+-------------------+------------------------+----------------+------------------------+---------------------------+---------+----+\n",
      "|    0|1808686|   3051|  5267|            7|        106|    57|            4|     16|           38|  34|              4|              15|  6| 240|        5|         91|        310|     3|     2|       3|       35|          10|                2|        2|      27|       14|           5|              -1|                 -1|                      -1|               2|    5^6^7^8^9^10^11^1...|                         11|       20|   2|\n",
      "|    0|1334610|   2605|  5922|            8|        142|    36|            5|     17|           80|  41|              4|              26|  4| 219|        4|        104|        141|     9|     2|       3|       18|           5|                3|        2|      20|       14|           5|              -1|                 -1|                      -1|               2|    5^6^7^8^9^10^11^1...|                         11|       42|   2|\n",
      "|    0|1526243|   2325|  4456|            6|        139|    60|            3|     17|           78|  23|              2|              23|  2| 257|        5|         45|        141|     3|     4|       3|       34|          -1|               -1|        1|      20|        8|           5|              16|                 -1|                      -1|               2|    2^3^4^5^6^7^8^9^1...|                         12|       38|   2|\n",
      "|    0|1223463|   2477|  5868|            7|        183|    29|            5|     12|           86|  37|              4|              21|  4| 207|        5|         87|        117|     4|     2|       2|       32|           4|                3|        2|      28|        5|           4|              18|                 -1|                      -1|               2|    5^6^7^8^9^10^11^1...|                         12|       17|   2|\n",
      "|    0|1594647|   3577|  5884|            7|        207|    17|            5|     12|           13|  37|              4|              21|  2| 298|        3|         76|        156|     4|     2|       2|       44|           4|                2|        2|      14|        6|           1|              20|                 -1|                      -1|               2|    1^2^3^4^5^6^7^8^9...|                         13|       17|   2|\n",
      "|    0|1839605|   1217|  4304|            7|        156|    56|            5|     13|           58|  37|              4|              21|  6| 219|        4|         87|        117|     9|     2|       2|       18|          14|                3|        2|      28|        5|           4|              20|                 -1|                      -1|               2|    7^8^9^10^11^12^13...|                         11|       17|   2|\n",
      "|    0|2110757|   3522|  5534|            7|        178|    17|            5|     17|           70|  39|              4|              17|  6| 231|        5|         56|        141|     4|     4|       2|       20|           2|                3|        2|      20|        8|           4|              20|                 -1|                      -1|               2|    6^7^8^9^10^11^12^...|                         11|       36|   2|\n",
      "|    0|1305729|   5657|  6310|            7|        171|    27|            5|     12|           12|  37|              4|              21|  7| 231|        5|         34|        218|     9|     2|       2|       20|          18|                2|        2|      14|       12|           1|              -1|                 -1|                      -1|               2|    5^6^7^8^9^10^11^1...|                         10|       27|   2|\n",
      "|    0|1983046|   1482|  4865|            7|        150|    17|            5|     12|           11|  39|              4|              17|  6| 125|        3|         58|        141|     4|     2|       2|       40|           6|                3|        2|      20|        7|           2|              -1|                 -1|                      -1|               2|    6^7^8^9^10^11^12^...|                         11|       36|   2|\n",
      "|    0|1907026|   3418|  5636|            7|        106|    57|            4|     11|           38|  34|              4|              15|  4| 437|        5|         38|        162|     4|     2|       2|       28|          10|                2|        2|      20|        4|           4|              16|                 -1|                      -1|               2|          19^20^21^22^23|                          5|       20|   2|\n",
      "|    0|1528322|   5372|  3899|            7|        109|    29|            5|     17|           86|  37|              4|              21|  5| 247|        3|         46|        141|     9|     4|       2|       40|           4|                3|        2|      14|       10|           3|              14|                 -1|                      -1|               2|    1^2^3^4^5^6^7^8^9...|                         12|       17|   2|\n",
      "|    0|1515824|   2732|  3140|            7|        147|    29|            5|     16|           86|  37|              4|              21|  5| 380|        5|         45|        141|     5|     4|       2|       12|           4|                3|        2|      20|        8|           5|              18|                 -1|                      -1|               2|    2^3^4^5^6^7^8^9^1...|                         12|       17|   2|\n",
      "|    0|1447656|   3401|  1766|            7|        156|    56|            5|     14|           58|  37|              4|              21|  5| 239|        3|         32|        141|     4|     2|       2|       20|          14|                3|        2|      20|        4|           5|              20|                 -1|                      -1|               2|    1^2^3^4^5^6^7^8^9...|                         12|       17|   2|\n",
      "|    0|1063612|   2112|  6869|            7|        207|    17|            5|     12|           13|  37|              4|              21|  6| 193|        5|         42|        141|     9|     2|       2|       20|           4|                2|        2|      20|        8|           2|              18|                 -1|                      -1|               2|    5^6^7^8^9^10^11^1...|                         11|       17|   2|\n",
      "|    0|1508915|   1482|  4865|            7|        150|    17|            5|     12|           11|  39|              4|              17|  4| 266|        4|         29|        141|     4|     4|       2|       34|           6|                3|        2|      20|        9|           3|              18|                 -1|                      -1|               2|    6^7^8^9^10^11^12^...|                         11|       36|   2|\n",
      "|    0|1360181|   3854|  3367|            7|        207|    17|            5|     17|           13|  37|              4|              21|  3| 398|        4|         56|        141|     2|     2|       2|       34|           4|                2|        2|      20|        8|           4|              18|                 -1|                      -1|               2|    6^7^8^9^10^11^12^...|                         11|       17|   2|\n",
      "|    0|1021961|   3080|  4405|            7|        150|    60|            5|     12|           11|  39|              2|              17|  5| 257|        5|        103|        141|     6|     2|       2|       34|          -1|               -1|        1|      19|       12|           2|              20|                  1|                      -1|               2|    9^10^11^12^13^14^...|                         10|       24|   2|\n",
      "|    0|2031611|   2521|  1925|            7|        207|    17|            5|     21|           13|  37|              4|              21|  5| 140|        4|         65|        141|     6|     2|       2|       30|           4|                2|        2|      14|       10|           2|              18|                 -1|                      -1|               2|    0^1^2^3^4^5^6^7^8...|                         11|       17|   2|\n",
      "|    0|1810402|   2325|  4456|            6|        139|    60|            3|     11|           78|  23|              2|              23|  5| 207|        5|         81|        162|     9|     2|       2|       32|          -1|               -1|        1|      20|        4|           5|              18|                 -1|                      -1|               2|    8^9^10^11^12^13^1...|                          9|       38|   2|\n",
      "|    0|1800213|   3420|  4680|            8|        142|    36|            5|     17|           80|  41|              4|              26|  4| 110|        5|         92|        193|     4|     2|       3|       20|           5|                3|        2|      17|       14|           4|              16|                 -1|                      -1|               2|    8^9^10^11^12^13^1...|                         11|       42|   2|\n",
      "+-----+-------+-------+------+-------------+-----------+------+-------------+-------+-------------+----+---------------+----------------+---+----+---------+-----------+-----------+------+------+--------+---------+------------+-----------------+---------+--------+---------+------------+----------------+-------------------+------------------------+----------------+------------------------+---------------------------+---------+----+\n",
      "only showing top 20 rows\n",
      "\n"
     ]
    }
   ],
   "source": [
    "# Data cleaning\n",
    "##Delete empty data\n",
    "retdf=df.na.drop()\n",
    "retdf.show()"
   ]
  },
  {
   "cell_type": "code",
   "execution_count": 7,
   "metadata": {},
   "outputs": [
    {
     "name": "stdout",
     "output_type": "stream",
     "text": [
      "+------------------------+\n",
      "|communication_onlinerate|\n",
      "+------------------------+\n",
      "|    5^6^7^8^9^10^11^1...|\n",
      "|    5^6^7^8^9^10^11^1...|\n",
      "|    2^3^4^5^6^7^8^9^1...|\n",
      "|    5^6^7^8^9^10^11^1...|\n",
      "|    1^2^3^4^5^6^7^8^9...|\n",
      "|    7^8^9^10^11^12^13...|\n",
      "|    6^7^8^9^10^11^12^...|\n",
      "|    5^6^7^8^9^10^11^1...|\n",
      "|    6^7^8^9^10^11^12^...|\n",
      "|          19^20^21^22^23|\n",
      "|    1^2^3^4^5^6^7^8^9...|\n",
      "|    2^3^4^5^6^7^8^9^1...|\n",
      "|    1^2^3^4^5^6^7^8^9...|\n",
      "|    5^6^7^8^9^10^11^1...|\n",
      "|    6^7^8^9^10^11^12^...|\n",
      "|    6^7^8^9^10^11^12^...|\n",
      "|    9^10^11^12^13^14^...|\n",
      "|    0^1^2^3^4^5^6^7^8...|\n",
      "|    8^9^10^11^12^13^1...|\n",
      "|    8^9^10^11^12^13^1...|\n",
      "+------------------------+\n",
      "only showing top 20 rows\n",
      "\n"
     ]
    }
   ],
   "source": [
    "#Query the value of a column\n",
    "retdf.select('communication_onlinerate').show()"
   ]
  },
  {
   "cell_type": "code",
   "execution_count": 8,
   "metadata": {},
   "outputs": [
    {
     "name": "stdout",
     "output_type": "stream",
     "text": [
      "+-----+-------+-------+------+-------------+-----------+------+-------------+-------+-------------+----+---------------+----------------+---+----+---------+-----------+-----------+------+------+--------+---------+------------+-----------------+---------+--------+---------+------------+----------------+-------------------+------------------------+----------------+---------------------------+---------+----+\n",
      "|label|    uid|task_id|adv_id|creat_type_cd|adv_prim_id|dev_id|inter_type_cd|slot_id|spread_app_id|tags|app_first_class|app_second_class|age|city|city_rank|device_name|device_size|career|gender|net_type|residence|his_app_size|his_on_shelf_time|app_score|emui_dev|list_time|device_price|up_life_duration|up_membership_grade|membership_life_duration|consume_purchase|communication_avgonline_30d|indu_name|pt_d|\n",
      "+-----+-------+-------+------+-------------+-----------+------+-------------+-------+-------------+----+---------------+----------------+---+----+---------+-----------+-----------+------+------+--------+---------+------------+-----------------+---------+--------+---------+------------+----------------+-------------------+------------------------+----------------+---------------------------+---------+----+\n",
      "|    0|1808686|   3051|  5267|            7|        106|    57|            4|     16|           38|  34|              4|              15|  6| 240|        5|         91|        310|     3|     2|       3|       35|          10|                2|        2|      27|       14|           5|              -1|                 -1|                      -1|               2|                         11|       20|   2|\n",
      "|    0|1334610|   2605|  5922|            8|        142|    36|            5|     17|           80|  41|              4|              26|  4| 219|        4|        104|        141|     9|     2|       3|       18|           5|                3|        2|      20|       14|           5|              -1|                 -1|                      -1|               2|                         11|       42|   2|\n",
      "|    0|1526243|   2325|  4456|            6|        139|    60|            3|     17|           78|  23|              2|              23|  2| 257|        5|         45|        141|     3|     4|       3|       34|          -1|               -1|        1|      20|        8|           5|              16|                 -1|                      -1|               2|                         12|       38|   2|\n",
      "|    0|1223463|   2477|  5868|            7|        183|    29|            5|     12|           86|  37|              4|              21|  4| 207|        5|         87|        117|     4|     2|       2|       32|           4|                3|        2|      28|        5|           4|              18|                 -1|                      -1|               2|                         12|       17|   2|\n",
      "|    0|1594647|   3577|  5884|            7|        207|    17|            5|     12|           13|  37|              4|              21|  2| 298|        3|         76|        156|     4|     2|       2|       44|           4|                2|        2|      14|        6|           1|              20|                 -1|                      -1|               2|                         13|       17|   2|\n",
      "|    0|1839605|   1217|  4304|            7|        156|    56|            5|     13|           58|  37|              4|              21|  6| 219|        4|         87|        117|     9|     2|       2|       18|          14|                3|        2|      28|        5|           4|              20|                 -1|                      -1|               2|                         11|       17|   2|\n",
      "|    0|2110757|   3522|  5534|            7|        178|    17|            5|     17|           70|  39|              4|              17|  6| 231|        5|         56|        141|     4|     4|       2|       20|           2|                3|        2|      20|        8|           4|              20|                 -1|                      -1|               2|                         11|       36|   2|\n",
      "|    0|1305729|   5657|  6310|            7|        171|    27|            5|     12|           12|  37|              4|              21|  7| 231|        5|         34|        218|     9|     2|       2|       20|          18|                2|        2|      14|       12|           1|              -1|                 -1|                      -1|               2|                         10|       27|   2|\n",
      "|    0|1983046|   1482|  4865|            7|        150|    17|            5|     12|           11|  39|              4|              17|  6| 125|        3|         58|        141|     4|     2|       2|       40|           6|                3|        2|      20|        7|           2|              -1|                 -1|                      -1|               2|                         11|       36|   2|\n",
      "|    0|1907026|   3418|  5636|            7|        106|    57|            4|     11|           38|  34|              4|              15|  4| 437|        5|         38|        162|     4|     2|       2|       28|          10|                2|        2|      20|        4|           4|              16|                 -1|                      -1|               2|                          5|       20|   2|\n",
      "+-----+-------+-------+------+-------------+-----------+------+-------------+-------+-------------+----+---------------+----------------+---+----+---------+-----------+-----------+------+------+--------+---------+------------+-----------------+---------+--------+---------+------------+----------------+-------------------+------------------------+----------------+---------------------------+---------+----+\n",
      "only showing top 10 rows\n",
      "\n"
     ]
    }
   ],
   "source": [
    "#Delete the'communication_onlinerate' column\n",
    "file=retdf.drop('communication_onlinerate')\n",
    "file.show(10)"
   ]
  },
  {
   "cell_type": "code",
   "execution_count": 7,
   "metadata": {},
   "outputs": [],
   "source": [
    "# import matplotlib.pyplot as plt\n",
    "# import pandas as pd\n",
    "# count_classes = pd.value_counts(file.select('communication_onlinerate'), sort = True).sort_index()\n",
    "# count_classes.plot(kind = 'bar')\n",
    "# plt.title(\"Fraud class histogram\")\n",
    "# plt.xlabel(\"Class\")\n",
    "# plt.ylabel(\"Frequency\")"
   ]
  },
  {
   "cell_type": "code",
   "execution_count": 9,
   "metadata": {},
   "outputs": [
    {
     "name": "stdout",
     "output_type": "stream",
     "text": [
      "+-----+-------+-------+------+-------------+-----------+------+-------------+-------+-------------+----+---------------+----------------+---+----+---------+-----------+-----------+------+------+--------+---------+------------+-----------------+---------+--------+---------+------------+----------------+-------------------+------------------------+----------------+---------------------------+---------+----+--------------------+\n",
      "|label|    uid|task_id|adv_id|creat_type_cd|adv_prim_id|dev_id|inter_type_cd|slot_id|spread_app_id|tags|app_first_class|app_second_class|age|city|city_rank|device_name|device_size|career|gender|net_type|residence|his_app_size|his_on_shelf_time|app_score|emui_dev|list_time|device_price|up_life_duration|up_membership_grade|membership_life_duration|consume_purchase|communication_avgonline_30d|indu_name|pt_d|            features|\n",
      "+-----+-------+-------+------+-------------+-----------+------+-------------+-------+-------------+----+---------------+----------------+---+----+---------+-----------+-----------+------+------+--------+---------+------------+-----------------+---------+--------+---------+------------+----------------+-------------------+------------------------+----------------+---------------------------+---------+----+--------------------+\n",
      "|    0|1808686|   3051|  5267|            7|        106|    57|            4|     16|           38|  34|              4|              15|  6| 240|        5|         91|        310|     3|     2|       3|       35|          10|                2|        2|      27|       14|           5|              -1|                 -1|                      -1|               2|                         11|       20|   2|[7.0,4.0,34.0,4.0...|\n",
      "|    0|1334610|   2605|  5922|            8|        142|    36|            5|     17|           80|  41|              4|              26|  4| 219|        4|        104|        141|     9|     2|       3|       18|           5|                3|        2|      20|       14|           5|              -1|                 -1|                      -1|               2|                         11|       42|   2|[8.0,5.0,41.0,4.0...|\n",
      "+-----+-------+-------+------+-------------+-----------+------+-------------+-------+-------------+----+---------------+----------------+---+----+---------+-----------+-----------+------+------+--------+---------+------------+-----------------+---------+--------+---------+------------+----------------+-------------------+------------------------+----------------+---------------------------+---------+----+--------------------+\n",
      "only showing top 2 rows\n",
      "\n",
      "+--------------------+\n",
      "|            features|\n",
      "+--------------------+\n",
      "|[7.0,4.0,34.0,4.0...|\n",
      "|[8.0,5.0,41.0,4.0...|\n",
      "|[6.0,3.0,23.0,2.0...|\n",
      "|[7.0,5.0,37.0,4.0...|\n",
      "|[7.0,5.0,37.0,4.0...|\n",
      "|[7.0,5.0,37.0,4.0...|\n",
      "|[7.0,5.0,39.0,4.0...|\n",
      "|[7.0,5.0,37.0,4.0...|\n",
      "|[7.0,5.0,39.0,4.0...|\n",
      "|[7.0,4.0,34.0,4.0...|\n",
      "|[7.0,5.0,37.0,4.0...|\n",
      "|[7.0,5.0,37.0,4.0...|\n",
      "|[7.0,5.0,37.0,4.0...|\n",
      "|[7.0,5.0,37.0,4.0...|\n",
      "|[7.0,5.0,39.0,4.0...|\n",
      "|[7.0,5.0,37.0,4.0...|\n",
      "|[7.0,5.0,39.0,2.0...|\n",
      "|[7.0,5.0,37.0,4.0...|\n",
      "|[6.0,3.0,23.0,2.0...|\n",
      "|[8.0,5.0,41.0,4.0...|\n",
      "+--------------------+\n",
      "only showing top 20 rows\n",
      "\n"
     ]
    }
   ],
   "source": [
    "\n",
    "###Select the columns involved in the calculation\n",
    "from pyspark.ml.feature import VectorAssembler\n",
    "assemble=VectorAssembler(inputCols=[\n",
    "     'creat_type_cd',\n",
    "     'inter_type_cd',\n",
    "     'tags',\n",
    "     'app_first_class',\n",
    "     'app_second_class',\n",
    "     'age',\n",
    "    'city',\n",
    "    'city_rank',\n",
    "    \"device_name\",\n",
    "    \"device_size\",\n",
    "    'career',\n",
    "    'gender',\n",
    "    'net_type',\n",
    "    'residence',\n",
    "    'his_app_size',\n",
    "    'his_on_shelf_time',\n",
    "    'app_score','emui_dev',\n",
    "    'list_time','device_price',\n",
    "    'up_life_duration',\n",
    "    'up_membership_grade',\n",
    "    'membership_life_duration',\n",
    "    'consume_purchase',\n",
    "    'communication_avgonline_30d',\n",
    "    'indu_name',\n",
    "    'pt_d'\n",
    " ], outputCol='features')\n",
    " \n",
    "assembled_data=assemble.transform(file)\n",
    " \n",
    "assembled_data.show(2)\n",
    "assembled_data.select('features').show()"
   ]
  },
  {
   "cell_type": "code",
   "execution_count": 9,
   "metadata": {},
   "outputs": [
    {
     "name": "stdout",
     "output_type": "stream",
     "text": [
      "+-----+-------+-------+------+-------------+-----------+------+-------------+-------+-------------+----+---------------+----------------+---+----+---------+-----------+-----------+------+------+--------+---------+------------+-----------------+---------+--------+---------+------------+----------------+-------------------+------------------------+----------------+---------------------------+---------+----+--------------------+--------------------+\n",
      "|label|    uid|task_id|adv_id|creat_type_cd|adv_prim_id|dev_id|inter_type_cd|slot_id|spread_app_id|tags|app_first_class|app_second_class|age|city|city_rank|device_name|device_size|career|gender|net_type|residence|his_app_size|his_on_shelf_time|app_score|emui_dev|list_time|device_price|up_life_duration|up_membership_grade|membership_life_duration|consume_purchase|communication_avgonline_30d|indu_name|pt_d|            features|        standardized|\n",
      "+-----+-------+-------+------+-------------+-----------+------+-------------+-------+-------------+----+---------------+----------------+---+----+---------+-----------+-----------+------+------+--------+---------+------------+-----------------+---------+--------+---------+------------+----------------+-------------------+------------------------+----------------+---------------------------+---------+----+--------------------+--------------------+\n",
      "|    0|1808686|   3051|  5267|            7|        106|    57|            4|     16|           38|  34|              4|              15|  6| 240|        5|         91|        310|     3|     2|       3|       35|          10|                2|        2|      27|       14|           5|              -1|                 -1|                      -1|               2|                         11|       20|   2|[7.0,4.0,34.0,4.0...|[6.29522390126463...|\n",
      "|    0|1334610|   2605|  5922|            8|        142|    36|            5|     17|           80|  41|              4|              26|  4| 219|        4|        104|        141|     9|     2|       3|       18|           5|                3|        2|      20|       14|           5|              -1|                 -1|                      -1|               2|                         11|       42|   2|[8.0,5.0,41.0,4.0...|[7.19454160144529...|\n",
      "+-----+-------+-------+------+-------------+-----------+------+-------------+-------+-------------+----+---------------+----------------+---+----+---------+-----------+-----------+------+------+--------+---------+------------+-----------------+---------+--------+---------+------------+----------------+-------------------+------------------------+----------------+---------------------------+---------+----+--------------------+--------------------+\n",
      "only showing top 2 rows\n",
      "\n"
     ]
    }
   ],
   "source": [
    "# Data balance\n",
    "####Standardize the data so that they have a comparable scale.\n",
    "\n",
    "###Euclidean distance is more affected on a large scale, so the variables need to be standardized.\n",
    "\n",
    "from pyspark.ml.feature import StandardScaler\n",
    " \n",
    "scale=StandardScaler(inputCol='features',outputCol='standardized')\n",
    " \n",
    "data_scale=scale.fit(assembled_data)\n",
    "data_scale_output=data_scale.transform(assembled_data)\n",
    " \n",
    "data_scale_output.show(2)\n",
    "\n"
   ]
  },
  {
   "cell_type": "code",
   "execution_count": 151,
   "metadata": {},
   "outputs": [
    {
     "name": "stdout",
     "output_type": "stream",
     "text": [
      "Row(label=0, uid=1808686, task_id=3051, adv_id=5267, creat_type_cd=7, adv_prim_id=106, dev_id=57, inter_type_cd=4, slot_id=16, spread_app_id=38, tags=34, app_first_class=4, app_second_class=15, age=6, city=240, city_rank=5, device_name=91, device_size=310, career=3, gender=2, net_type=3, residence=35, his_app_size=10, his_on_shelf_time=2, app_score=2, emui_dev=27, list_time=14, device_price=5, up_life_duration=-1, up_membership_grade=-1, membership_life_duration=-1, consume_purchase=2, communication_avgonline_30d=11, indu_name=20, pt_d=2)\n",
      "Number of training sets:100\n",
      "[1808686.0,3051.0,5267.0,7.0,106.0,57.0,4.0,16.0,38.0]\n",
      "Predictive value:0,actual value0.0\n",
      "Number of test sets:100\n",
      "The overall forecast accuracy rate is0.98\n",
      "PRvalue:0.0200,AUCvalue:0.5000\n",
      "--------%%%% [0.0, 0.0, 0.0, 0.0, 0.0, 0.0, 0.0, 0.0, 0.0, 0.0, 0.0, 0.0, 0.0, 0.0, 0.0, 0.0, 0.0, 0.0, 0.0, 0.0, 0.0, 0.0, 0.0, 0.0, 0.0, 0.0, 0.0, 0.0, 0.0, 0.0, 0.0, 0.0, 0.0, 0.0, 0.0, 0.0, 0.0, 0.0, 0.0, 0.0, 0.0, 0.0, 0.0, 0.0, 0.0, 1.0, 0.0, 0.0, 0.0, 0.0]\n",
      "---y_pre-- [0, 0, 0, 0, 0, 0, 0, 0, 0, 0, 0, 0, 0, 0, 0, 0, 0, 0, 0, 0, 0, 0, 0, 0, 0, 0, 0, 0, 0, 0, 0, 0, 0, 0, 0, 0, 0, 0, 0, 0, 0, 0, 0, 0, 0, 0, 0, 0, 0, 0]\n"
     ]
    },
    {
     "data": {
      "image/png": "[encoded data removed]",
      "text/plain": [
       "<Figure size 432x288 with 1 Axes>"
      ]
     },
     "metadata": {
      "needs_background": "light"
     },
     "output_type": "display_data"
    }
   ],
   "source": [
    "######svm\n",
    "from pyspark import SparkConf,SparkContext\n",
    "from pyspark.sql import SparkSession\n",
    "spark= SparkSession.builder.master(\"local\").appName(\"test\").getOrCreate()\n",
    "sc = spark.sparkContext\n",
    "from pyspark.sql.types import *\n",
    "from pyspark.mllib.classification import SVMModel\n",
    "from pyspark.mllib.classification import SVMWithSGD\n",
    "from pyspark.mllib.regression import LabeledPoint\n",
    "from pyspark.mllib.evaluation import BinaryClassificationMetrics\n",
    "from pyspark.sql.functions import col,expr,when \n",
    " \n",
    "#1. Train the model\n",
    "#1.1 Read the data and construct the training data set\n",
    "\n",
    "file.createOrReplaceTempView(\"file\")\n",
    "data = spark.sql(\"\"\"select * from file limit 100\"\"\").rdd.collect()\n",
    "print(data[0]) \n",
    "# # You need to serialize row by row RDD data, and then construct LabeledPoint type labels and features\n",
    "trainData = sc.parallelize(data).map(lambda x:LabeledPoint(label=x[0],features=x[1:10]))\n",
    "# trainData.take(2)\n",
    "print(\"Number of training sets:{}\".format(trainData.count()))\n",
    "print(trainData.first().features)\n",
    " \n",
    "#1.2 Training model\n",
    "svm = SVMWithSGD.train(sc.parallelize(trainData.collect()), iterations=10)\n",
    " \n",
    "prediction = svm.predict(trainData.first().features)\n",
    "print(\"Predictive value:{},actual value{}\".format(prediction,trainData.first().label))\n",
    "# #2. Evaluate the effect of model training\n",
    "# #2.1 Constructing a test data set\n",
    "data2 = spark.sql(\"\"\"select * from file limit 100\"\"\").rdd.collect()\n",
    "testData = sc.parallelize(data2).map(lambda x:LabeledPoint(label=x[0],features=x[1:10]))\n",
    "print(\"Number of test sets:{}\".format(testData.count()))\n",
    " \n",
    "# #2. Classification effect evaluation\n",
    "# #Overall forecast accuracy\n",
    "svmTotalCorrect = testData.map(lambda x: 1 if svm.predict(x.features) == x.label else 0).sum()\n",
    "#print(\"Classification accuracy:{}\".format(svmTotalCorrect))\n",
    "svmAccuracy = float(svmTotalCorrect)/testData.count()\n",
    "print(\"The overall forecast accuracy rate is{}\".format(svmAccuracy))\n",
    " \n",
    "# # #Calculate AUC\n",
    "scoreAndLabels = testData.map(lambda x:(float(svm.predict(x.features)),x.label))\n",
    "metrics = BinaryClassificationMetrics(scoreAndLabels)\n",
    "print('PRvalue:{:.4f},AUCvalue:{:.4f}'.format(metrics.areaUnderPR,metrics.areaUnderROC))\n",
    "\n",
    "\n",
    "###Drawing ROC\n",
    "from sklearn.metrics import roc_curve\n",
    "import matplotlib.pyplot as plt\n",
    "#Get the true value\n",
    "trainlist=[]\n",
    "for index in range(50):\n",
    "    trainlist.append(testData.collect()[index].label)\n",
    "print(\"--------%%%%\",trainlist)\n",
    "y_label=(trainlist)\n",
    "###Get the predicted value\n",
    "prelist=[]\n",
    "for index in range(50):\n",
    "    prelist.append(svm.predict(testData.collect()[index].features))\n",
    "y_pre=(prelist)\n",
    "print(\"---y_pre--\",y_pre)\n",
    "fpr,tpr,thersholds=roc_curve(y_label,y_pre)\n",
    "\n",
    "plt.plot(fpr,tpr,\"k--\",label=\"ROC\",lw=2)\n",
    "plt.xlabel(\"false\")\n",
    "plt.ylabel(\"true\")  \n",
    "plt.title=\"roc\"\n",
    "plt.show()\n",
    "\n"
   ]
  },
  {
   "cell_type": "code",
   "execution_count": null,
   "metadata": {},
   "outputs": [],
   "source": []
  },
  {
   "cell_type": "code",
   "execution_count": 152,
   "metadata": {},
   "outputs": [
    {
     "name": "stdout",
     "output_type": "stream",
     "text": [
      "Row(label=0, uid=1808686, task_id=3051, adv_id=5267, creat_type_cd=7, adv_prim_id=106, dev_id=57, inter_type_cd=4, slot_id=16, spread_app_id=38, tags=34, app_first_class=4, app_second_class=15, age=6, city=240, city_rank=5, device_name=91, device_size=310, career=3, gender=2, net_type=3, residence=35, his_app_size=10, his_on_shelf_time=2, app_score=2, emui_dev=27, list_time=14, device_price=5, up_life_duration=-1, up_membership_grade=-1, membership_life_duration=-1, consume_purchase=2, communication_avgonline_30d=11, indu_name=20, pt_d=2)\n",
      "Number of training sets:10000\n",
      "[1808686.0,3051.0,5267.0,7.0,106.0,57.0,4.0,16.0,38.0]\n",
      "Predictive value:0,actual value0.0\n",
      "Number of test sets:5000\n",
      "The overall forecast accuracy rate is0.9708\n",
      "PRvalue:0.0292,AUCvalue:0.5000\n"
     ]
    }
   ],
   "source": [
    "###Logistic regression\n",
    "from pyspark.ml.classification import LogisticRegression\n",
    "from pyspark.mllib.classification import LogisticRegressionWithSGD\n",
    "from pyspark.mllib.regression import LabeledPoint\n",
    "from pyspark import SparkContext, SparkConf\n",
    "from pyspark.sql.session import SparkSession\n",
    "#1.Get training model data\n",
    "file.createOrReplaceTempView(\"file\")\n",
    "data = spark.sql(\"\"\"select * from file limit 10000\"\"\").rdd.collect()\n",
    "print(data[0]) \n",
    "trainData = sc.parallelize(data).map(lambda x:LabeledPoint(label=x[0],features=x[1:10]))\n",
    "# trainData.take(2)\n",
    "print(\"Number of training sets:{}\".format(trainData.count()))\n",
    "print(trainData.first().features)\n",
    " #2 Logistic regression training model\n",
    "svm = LogisticRegressionWithSGD.train(sc.parallelize(trainData.collect()), iterations=3)\n",
    "prediction = svm.predict(trainData.first().features)\n",
    "print(\"Predictive value:{},actual value{}\".format(prediction,trainData.first().label))\n",
    " \n",
    "#2.Evaluate the training effect of logistic regression model\n",
    "# 2Construct a test data set\n",
    "data2 = spark.sql(\"\"\"select * from file  limit 5000\"\"\").rdd.collect()\n",
    "testData = sc.parallelize(data2).map(lambda x:LabeledPoint(label=x[0],features=x[1:10]))\n",
    "print(\"Number of test sets:{}\".format(testData.count()))\n",
    " \n",
    "# 2.2 Classification effect evaluation\n",
    "# Overall logistic regression prediction accuracy\n",
    "svmTotalCorrect = testData.map(lambda x: 1 if svm.predict(x.features) == x.label else 0).sum()\n",
    "#print(\"Classification accuracy:{}\".format(svmTotalCorrect))\n",
    "svmAccuracy = float(svmTotalCorrect)/testData.count()\n",
    "print(\"The overall forecast accuracy rate is{}\".format(svmAccuracy))\n",
    " \n",
    "# # #AUC计算\n",
    "scoreAndLabels = testData.map(lambda x:(float(svm.predict(x.features)),x.label))\n",
    "metrics = BinaryClassificationMetrics(scoreAndLabels)\n",
    "print('PRvalue:{:.4f},AUCvalue:{:.4f}'.format(metrics.areaUnderPR,metrics.areaUnderROC))\n",
    "\n",
    "\n"
   ]
  },
  {
   "cell_type": "code",
   "execution_count": 163,
   "metadata": {},
   "outputs": [
    {
     "name": "stdout",
     "output_type": "stream",
     "text": [
      "Row(label=0, uid=1000023, task_id=1922, adv_id=2817, creat_type_cd=2, adv_prim_id=156, dev_id=56, inter_type_cd=5, slot_id=14, spread_app_id=58, tags=37, app_first_class=4, app_second_class=21, age=4, city=221, city_rank=5, device_name=91, device_size=310, career=5, gender=4, net_type=2, residence=12, his_app_size=14, his_on_shelf_time=3, app_score=2, emui_dev=27, list_time=14, device_price=5, up_life_duration=20, up_membership_grade=-1, membership_life_duration=-1, consume_purchase=2, communication_avgonline_30d=13, indu_name=17, pt_d=4) <class 'pyspark.sql.dataframe.DataFrame'> DataFrame[label: int, uid: int, task_id: int, adv_id: int, creat_type_cd: int, adv_prim_id: int, dev_id: int, inter_type_cd: int, slot_id: int, spread_app_id: int, tags: int, app_first_class: int, app_second_class: int, age: int, city: int, city_rank: int, device_name: int, device_size: int, career: int, gender: int, net_type: int, residence: int, his_app_size: int, his_on_shelf_time: int, app_score: int, emui_dev: int, list_time: int, device_price: int, up_life_duration: int, up_membership_grade: int, membership_life_duration: int, consume_purchase: int, communication_avgonline_30d: int, indu_name: int, pt_d: int]\n",
      "+-----+-------+-------+------+-------------+-----------+------+-------------+-------+-------------+----+---------------+----------------+---+----+---------+-----------+-----------+------+------+--------+---------+------------+-----------------+---------+--------+---------+------------+----------------+-------------------+------------------------+----------------+---------------------------+---------+----+--------------------+--------------------+--------------------+-----------+\n",
      "|label|    uid|task_id|adv_id|creat_type_cd|adv_prim_id|dev_id|inter_type_cd|slot_id|spread_app_id|tags|app_first_class|app_second_class|age|city|city_rank|device_name|device_size|career|gender|net_type|residence|his_app_size|his_on_shelf_time|app_score|emui_dev|list_time|device_price|up_life_duration|up_membership_grade|membership_life_duration|consume_purchase|communication_avgonline_30d|indu_name|pt_d|            features|     indexedFeatures|          prediction|predictions|\n",
      "+-----+-------+-------+------+-------------+-----------+------+-------------+-------+-------------+----+---------------+----------------+---+----+---------+-----------+-----------+------+------+--------+---------+------------+-----------------+---------+--------+---------+------------+----------------+-------------------+------------------------+----------------+---------------------------+---------+----+--------------------+--------------------+--------------------+-----------+\n",
      "|    0|1000125|   4683|  4353|            7|        207|    17|            5|     12|           13|  37|              4|              21|  6| 321|        3|         87|        117|     5|     2|       2|       29|           4|                3|        2|      28|        5|           4|              -1|                 -1|                      -1|               2|                         12|       17|   4|[7.0,5.0,37.0,4.0...|[5.0,3.0,37.0,2.0...|0.034351843381209404|          0|\n",
      "|    0|1000201|   1099|  1929|            8|        142|    36|            5|     13|           80|  41|              4|              26|  6| 163|        4|         65|        141|     9|     2|       2|       12|           5|                3|        2|      14|       10|           2|              -1|                 -1|                      -1|               2|                         13|       42|   4|[8.0,5.0,41.0,4.0...|[6.0,3.0,41.0,2.0...|0.021183188876850848|          0|\n",
      "+-----+-------+-------+------+-------------+-----------+------+-------------+-------+-------------+----+---------------+----------------+---+----+---------+-----------+-----------+------+------+--------+---------+------------+-----------------+---------+--------+---------+------------+----------------+-------------------+------------------------+----------------+---------------------------+---------+----+--------------------+--------------------+--------------------+-----------+\n",
      "only showing top 2 rows\n",
      "\n",
      "-----total_amount-- 100\n",
      "The prediction accuracy of the decision tree algorithm module is:0.97\n",
      "------pre.label--- 0\n",
      "------pre.predictions--- 0\n",
      "---y_label--- [0, 0, 0, 0, 0, 0, 0, 0, 0, 0, 0, 0, 0, 0, 0, 0, 0, 0, 0, 0, 0, 0, 0, 0, 0, 0, 0, 0, 0, 0, 0, 0, 0, 0, 0, 0, 0, 0, 0, 0, 0, 0, 0, 0, 0, 0, 0, 0, 0, 0, 0, 0, 0, 0, 0, 0, 0, 0, 0, 0, 0, 0, 0, 0, 0, 0, 0, 0, 0, 0, 0, 0, 0, 0, 0, 0, 0, 0, 0, 0, 0, 0, 0, 0, 0, 0, 0, 0, 0, 0, 0, 0, 0, 0, 0, 0, 0, 0, 0, 0]\n",
      "---labellist--- [0, 0, 0, 0, 0, 0, 0, 0, 0, 0, 0, 0, 0, 0, 0, 0, 0, 0, 0, 0, 0, 0, 0, 0, 0, 0, 0, 0, 0, 0, 0, 0, 0, 0, 0, 0, 0, 0, 0, 0, 0, 0, 0, 0, 0, 0, 0, 0, 0, 0, 0, 0, 0, 0, 0, 0, 0, 0, 0, 0, 0, 0, 0, 0, 0, 0, 0, 0, 0, 0, 0, 0, 0, 0, 0, 0, 0, 0, 0, 0, 0, 0, 0, 0, 0, 0, 0, 0, 0, 0, 0, 0, 0, 0, 0, 0, 0, 0, 0, 0]\n",
      "---prelist--- [0, 0, 0, 0, 0, 0, 0, 0, 0, 0, 0, 0, 0, 0, 0, 0, 0, 0, 0, 0, 0, 0, 0, 0, 0, 0, 0, 0, 0, 0, 0, 0, 0, 0, 0, 0, 0, 0, 0, 1, 0, 0, 0, 0, 0, 0, 0, 0, 0, 0, 0, 0, 0, 0, 0, 0, 0, 0, 0, 0, 0, 0, 0, 0, 0, 0, 0, 0, 0, 0, 1, 0, 0, 0, 0, 0, 0, 0, 0, 0, 0, 0, 0, 0, 0, 0, 0, 0, 0, 1, 0, 0, 0, 0, 0, 0, 0, 0, 0, 0]\n",
      "---y_pre-- [0, 0, 0, 0, 0, 0, 0, 0, 0, 0, 0, 0, 0, 0, 0, 0, 0, 0, 0, 0, 0, 0, 0, 0, 0, 0, 0, 0, 0, 0, 0, 0, 0, 0, 0, 0, 0, 0, 0, 1, 0, 0, 0, 0, 0, 0, 0, 0, 0, 0, 0, 0, 0, 0, 0, 0, 0, 0, 0, 0, 0, 0, 0, 0, 0, 0, 0, 0, 0, 0, 1, 0, 0, 0, 0, 0, 0, 0, 0, 0, 0, 0, 0, 0, 0, 0, 0, 0, 0, 1, 0, 0, 0, 0, 0, 0, 0, 0, 0, 0]\n"
     ]
    },
    {
     "data": {
      "image/png": "[encoded data removed]",
      "text/plain": [
       "<Figure size 432x288 with 1 Axes>"
      ]
     },
     "metadata": {
      "needs_background": "light"
     },
     "output_type": "display_data"
    }
   ],
   "source": [
    "#Random forest\n",
    "from pyspark.sql import SparkSession\n",
    "from pyspark.ml.regression import DecisionTreeRegressor\n",
    "from pyspark.ml.feature import VectorAssembler\n",
    "from pyspark.ml.feature import VectorIndexer\n",
    "from pyspark.ml.evaluation import RegressionEvaluator\n",
    "from pyspark.ml import Pipeline\n",
    "from pyspark.ml.tuning import ParamGridBuilder, CrossValidator\n",
    "from pyspark.sql.types import IntegerType\n",
    "\n",
    "\n",
    "# Set the maximum number of categories, those less than or equal to n are category features, and those greater than n are continuous features\n",
    "featureIndexer = VectorIndexer().setInputCol(\"features\").setOutputCol(\"indexedFeatures\").setMaxCategories(24)\n",
    "# Randomly divide the data1 data set, this data is used in the decision model\n",
    "trainingData, testData = file.randomSplit([0.7, 0.3])\n",
    "print(trainingData.head(),type(trainingData),trainingData)\n",
    "\n",
    "# Set the decision tree regression model\n",
    "# MaxBins: the maximum number of discretization of continuous features\n",
    "dt = DecisionTreeRegressor().setLabelCol(\"label\").setFeaturesCol(\"indexedFeatures\").setMaxBins(64)\n",
    "\n",
    "#Assemble the feature conversion and model training involved in the decision tree regression model on an assembly line.\n",
    "pipeline = Pipeline().setStages([assemble,featureIndexer, dt])\n",
    "\n",
    "\n",
    "model = pipeline.fit(trainingData)\n",
    "# Predict the value of the decision tree regression\n",
    "predictions = model.transform(testData)\n",
    "\n",
    "\n",
    "predictions.createOrReplaceTempView(\"temp\")\n",
    "pre= spark.sql(\"\"\"select *, case when prediction <= %s then 0\n",
    "                                when prediction > %s then 1\n",
    "                                else 3 end as predictions\n",
    "                        from temp limit 100\"\"\"%(0.1,0.1))\n",
    "pre.select(\"*\").show(2) \n",
    "#2.3 Evaluate the effectiveness of classification\n",
    "total_amount=pre.count()\n",
    "print(\"-----total_amount--\",total_amount)\n",
    "correct_amount = pre.filter(pre.label==pre.predictions).count()\n",
    "# print(\"--correct_amount--\",correct_amount)\n",
    "precision_rate = correct_amount/total_amount\n",
    "print(\"The prediction accuracy of the decision tree algorithm module is:{}\".format(precision_rate))\n",
    "\n",
    "print(\"------pre.label---\",pre.collect()[0].label)\n",
    "print(\"------pre.predictions---\",pre.collect()[0].predictions)\n",
    "\n",
    "######ROC\n",
    "labellist=[]\n",
    "for index in range(100):\n",
    "    labellist.append(pre.collect()[index].label)\n",
    "y_label=(labellist)    \n",
    "print(\"---y_label---\",y_label)  \n",
    "print(\"---labellist---\",labellist)\n",
    "prelist=[]\n",
    "for index in range(100):\n",
    "    prelist.append(pre.collect()[index].predictions)\n",
    "    \n",
    "y_pre=(prelist)\n",
    "print(\"---prelist---\",prelist)\n",
    "print(\"---y_pre--\",y_pre)\n",
    "fpr,tpr,thersholds=roc_curve(y_pre,y_label)\n",
    "\n",
    "plt.plot(fpr,tpr,\"k--\",label=\"ROC\",lw=2)\n",
    "plt.xlabel(\"false\")\n",
    "plt.ylabel(\"true\")  \n",
    "plt.title=\"roc\"\n",
    "plt.show()"
   ]
  },
  {
   "cell_type": "code",
   "execution_count": 155,
   "metadata": {
    "scrolled": true
   },
   "outputs": [
    {
     "name": "stderr",
     "output_type": "stream",
     "text": [
      "<ipython-input-155-a7a2cadf9fd5>:14: MatplotlibDeprecationWarning: Using a string of single character colors as a color sequence is deprecated since 3.2 and will be removed two minor releases later. Use an explicit list instead.\n",
      "  plt.bar(x, y, color='rgb',width=0.8)\n"
     ]
    },
    {
     "data": {
      "image/png": "[encoded data removed]",
      "text/plain": [
       "<Figure size 432x216 with 1 Axes>"
      ]
     },
     "metadata": {
      "needs_background": "light"
     },
     "output_type": "display_data"
    }
   ],
   "source": [
    "import matplotlib.pyplot as plt\n",
    "import pyecharts\n",
    "# The number of cities statistics histogram\n",
    "ret=file.select(file.city).groupby(file.city).count().collect()\n",
    "x=[]\n",
    "for i in range(100):\n",
    "    x.append(ret[i][\"city\"])\n",
    "data = x\n",
    "y=[]\n",
    "for j in range(100):\n",
    "    y.append(ret[j][\"count\"])\n",
    "plt.rcParams['font.sans-serif']=['SimHei']\n",
    "plt.figure(figsize=(6,3))\n",
    "plt.bar(x, y, color='rgb',width=0.8)\n",
    "plt.xticks(rotation=20)\n",
    "plt.xticks(rotation=65)\n",
    "plt.xlabel(\"city\")\n",
    "plt.ylabel(\"Number of cities\")\n",
    "plt.show()\n"
   ]
  },
  {
   "cell_type": "code",
   "execution_count": 154,
   "metadata": {},
   "outputs": [
    {
     "data": {
      "image/png": "[encoded data removed]",
      "text/plain": [
       "<Figure size 432x432 with 1 Axes>"
      ]
     },
     "metadata": {
      "needs_background": "light"
     },
     "output_type": "display_data"
    }
   ],
   "source": [
    "import matplotlib.pyplot as plt\n",
    "import numpy\n",
    "#Draw a scatter chart\n",
    "ret=file.select(file.city).groupby(file.city).count().collect()\n",
    "x=[]\n",
    "for i in range(100):\n",
    "    x.append(ret[i][\"city\"])\n",
    "data = x\n",
    "y=[]\n",
    "for j in range(100):\n",
    "    y.append(ret[j][\"count\"])\n",
    "plt.rcParams['font.sans-serif']=['SimHei']\n",
    "plt.figure(figsize=(6,6))\n",
    "plt.xlabel(\"city\")\n",
    "plt.ylabel(\"Number of cities\")\n",
    "plt.scatter(x,y,color = 'r',linestyle = '--',\n",
    "marker = 'D')\n",
    "plt.legend(\"Number of cities\")\n",
    "plt.show()"
   ]
  },
  {
   "cell_type": "code",
   "execution_count": 156,
   "metadata": {},
   "outputs": [
    {
     "name": "stderr",
     "output_type": "stream",
     "text": [
      "No handles with labels found to put in legend.\n"
     ]
    },
    {
     "data": {
      "image/png": "[encoded data removed]",
      "text/plain": [
       "<Figure size 432x432 with 1 Axes>"
      ]
     },
     "metadata": {
      "needs_background": "light"
     },
     "output_type": "display_data"
    }
   ],
   "source": [
    "##Drawing a graph\n",
    "ret=file.select(file.city).groupby(file.city).count().collect()\n",
    "x=[]\n",
    "for i in range(10):\n",
    "    x.append(ret[i][\"city\"])\n",
    "data = x\n",
    "y=[]\n",
    "for j in range(10):\n",
    "    y.append(ret[j][\"count\"])\n",
    "plt.rcParams['font.sans-serif']=['SimHei']\n",
    "plt.figure(figsize=(6,6))\n",
    "plt.xlabel(\"city\",fontsize=\"18\")\n",
    "plt.ylabel(\"Number of cities\",fontsize=\"18\")\n",
    "plt.xticks(rotation=90)\n",
    "plt.xticks(rotation=65)\n",
    "plt.plot(x,y,color = 'r',linestyle = '--',\n",
    "marker = 'o')## Draw a line chart\n",
    "plt.legend()\n",
    "plt.show()"
   ]
  },
  {
   "cell_type": "code",
   "execution_count": null,
   "metadata": {},
   "outputs": [],
   "source": []
  }
 ],
 "metadata": {
  "kernelspec": {
   "display_name": "Python 3",
   "language": "python",
   "name": "python3"
  },
  "language_info": {
   "codemirror_mode": {
    "name": "ipython",
    "version": 3
   },
   "file_extension": ".py",
   "mimetype": "text/x-python",
   "name": "python",
   "nbconvert_exporter": "python",
   "pygments_lexer": "ipython3",
   "version": "3.8.8"
  }
 },
 "nbformat": 4,
 "nbformat_minor": 2
}
